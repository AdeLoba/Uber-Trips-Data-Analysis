{
 "cells": [
  {
   "cell_type": "code",
   "execution_count": 1,
   "id": "f62a1bb6-cf4f-4b39-a44e-998a29a0f877",
   "metadata": {},
   "outputs": [],
   "source": [
    "import pandas as pd\n",
    "import numpy as np\n",
    "import matplotlib.pyplot as plt\n",
    "import seaborn as sns"
   ]
  },
  {
   "cell_type": "code",
   "execution_count": 2,
   "id": "1d631fb0-793d-416c-9a8d-126e645397dc",
   "metadata": {},
   "outputs": [
    {
     "data": {
      "text/html": [
       "<div>\n",
       "<style scoped>\n",
       "    .dataframe tbody tr th:only-of-type {\n",
       "        vertical-align: middle;\n",
       "    }\n",
       "\n",
       "    .dataframe tbody tr th {\n",
       "        vertical-align: top;\n",
       "    }\n",
       "\n",
       "    .dataframe thead th {\n",
       "        text-align: right;\n",
       "    }\n",
       "</style>\n",
       "<table border=\"1\" class=\"dataframe\">\n",
       "  <thead>\n",
       "    <tr style=\"text-align: right;\">\n",
       "      <th></th>\n",
       "      <th>START_DATE</th>\n",
       "      <th>END_DATE</th>\n",
       "      <th>CATEGORY</th>\n",
       "      <th>START</th>\n",
       "      <th>STOP</th>\n",
       "      <th>MILES</th>\n",
       "      <th>PURPOSE</th>\n",
       "    </tr>\n",
       "  </thead>\n",
       "  <tbody>\n",
       "    <tr>\n",
       "      <th>0</th>\n",
       "      <td>01/01/2016 21:11</td>\n",
       "      <td>01/01/2016 21:17</td>\n",
       "      <td>Business</td>\n",
       "      <td>Fort Pierce</td>\n",
       "      <td>Fort Pierce</td>\n",
       "      <td>5.1</td>\n",
       "      <td>Meal/Entertain</td>\n",
       "    </tr>\n",
       "    <tr>\n",
       "      <th>1</th>\n",
       "      <td>01/02/2016 1:25</td>\n",
       "      <td>01/02/2016 1:37</td>\n",
       "      <td>Business</td>\n",
       "      <td>Fort Pierce</td>\n",
       "      <td>Fort Pierce</td>\n",
       "      <td>5.0</td>\n",
       "      <td>NaN</td>\n",
       "    </tr>\n",
       "    <tr>\n",
       "      <th>2</th>\n",
       "      <td>01/02/2016 20:25</td>\n",
       "      <td>01/02/2016 20:38</td>\n",
       "      <td>Business</td>\n",
       "      <td>Fort Pierce</td>\n",
       "      <td>Fort Pierce</td>\n",
       "      <td>4.8</td>\n",
       "      <td>Errand/Supplies</td>\n",
       "    </tr>\n",
       "    <tr>\n",
       "      <th>3</th>\n",
       "      <td>01/05/2016 17:31</td>\n",
       "      <td>01/05/2016 17:45</td>\n",
       "      <td>Business</td>\n",
       "      <td>Fort Pierce</td>\n",
       "      <td>Fort Pierce</td>\n",
       "      <td>4.7</td>\n",
       "      <td>Meeting</td>\n",
       "    </tr>\n",
       "    <tr>\n",
       "      <th>4</th>\n",
       "      <td>01/06/2016 14:42</td>\n",
       "      <td>01/06/2016 15:49</td>\n",
       "      <td>Business</td>\n",
       "      <td>Fort Pierce</td>\n",
       "      <td>West Palm Beach</td>\n",
       "      <td>63.7</td>\n",
       "      <td>Customer Visit</td>\n",
       "    </tr>\n",
       "  </tbody>\n",
       "</table>\n",
       "</div>"
      ],
      "text/plain": [
       "         START_DATE          END_DATE  CATEGORY        START             STOP  \\\n",
       "0  01/01/2016 21:11  01/01/2016 21:17  Business  Fort Pierce      Fort Pierce   \n",
       "1   01/02/2016 1:25   01/02/2016 1:37  Business  Fort Pierce      Fort Pierce   \n",
       "2  01/02/2016 20:25  01/02/2016 20:38  Business  Fort Pierce      Fort Pierce   \n",
       "3  01/05/2016 17:31  01/05/2016 17:45  Business  Fort Pierce      Fort Pierce   \n",
       "4  01/06/2016 14:42  01/06/2016 15:49  Business  Fort Pierce  West Palm Beach   \n",
       "\n",
       "   MILES          PURPOSE  \n",
       "0    5.1   Meal/Entertain  \n",
       "1    5.0              NaN  \n",
       "2    4.8  Errand/Supplies  \n",
       "3    4.7          Meeting  \n",
       "4   63.7   Customer Visit  "
      ]
     },
     "execution_count": 2,
     "metadata": {},
     "output_type": "execute_result"
    }
   ],
   "source": [
    "df = pd.read_csv(\"UberDataset.csv\")\n",
    "df.head()"
   ]
  },
  {
   "cell_type": "code",
   "execution_count": 3,
   "id": "76453454-a8bc-4ddd-9de9-6a791adadaa1",
   "metadata": {},
   "outputs": [
    {
     "name": "stdout",
     "output_type": "stream",
     "text": [
      "<class 'pandas.core.frame.DataFrame'>\n",
      "RangeIndex: 1155 entries, 0 to 1154\n",
      "Data columns (total 7 columns):\n",
      " #   Column      Non-Null Count  Dtype  \n",
      "---  ------      --------------  -----  \n",
      " 0   START_DATE  1155 non-null   object \n",
      " 1   END_DATE    1155 non-null   object \n",
      " 2   CATEGORY    1155 non-null   object \n",
      " 3   START       1155 non-null   object \n",
      " 4   STOP        1155 non-null   object \n",
      " 5   MILES       1155 non-null   float64\n",
      " 6   PURPOSE     653 non-null    object \n",
      "dtypes: float64(1), object(6)\n",
      "memory usage: 63.3+ KB\n"
     ]
    }
   ],
   "source": [
    "df.info()"
   ]
  },
  {
   "cell_type": "code",
   "execution_count": 4,
   "id": "05931c17-1c6b-45bc-9a29-12284d169696",
   "metadata": {},
   "outputs": [
    {
     "data": {
      "text/plain": [
       "(1155, 7)"
      ]
     },
     "execution_count": 4,
     "metadata": {},
     "output_type": "execute_result"
    }
   ],
   "source": [
    "df.shape"
   ]
  },
  {
   "cell_type": "markdown",
   "id": "aef849b2-47ea-483d-97a7-34c7dbdb1e46",
   "metadata": {},
   "source": [
    "## Checking and solving Missing Values"
   ]
  },
  {
   "cell_type": "code",
   "execution_count": 5,
   "id": "d9c33a1b-8e98-4906-8037-a57c2df6fb02",
   "metadata": {},
   "outputs": [
    {
     "name": "stdout",
     "output_type": "stream",
     "text": [
      "START_DATE\n",
      "START_DATE\n",
      "False    1155\n",
      "Name: count, dtype: int64\n",
      "\n",
      "END_DATE\n",
      "END_DATE\n",
      "False    1155\n",
      "Name: count, dtype: int64\n",
      "\n",
      "CATEGORY\n",
      "CATEGORY\n",
      "False    1155\n",
      "Name: count, dtype: int64\n",
      "\n",
      "START\n",
      "START\n",
      "False    1155\n",
      "Name: count, dtype: int64\n",
      "\n",
      "STOP\n",
      "STOP\n",
      "False    1155\n",
      "Name: count, dtype: int64\n",
      "\n",
      "MILES\n",
      "MILES\n",
      "False    1155\n",
      "Name: count, dtype: int64\n",
      "\n",
      "PURPOSE\n",
      "PURPOSE\n",
      "False    653\n",
      "True     502\n",
      "Name: count, dtype: int64\n",
      "\n"
     ]
    }
   ],
   "source": [
    "missing_data = df.isnull()\n",
    "\n",
    "for column in missing_data.columns.values.tolist():\n",
    "    print(column)\n",
    "    print (missing_data[column].value_counts())\n",
    "    print(\"\")    "
   ]
  },
  {
   "cell_type": "code",
   "execution_count": 6,
   "id": "d8a7192c-e1ca-47ab-966e-f5e5f0be3ab8",
   "metadata": {},
   "outputs": [
    {
     "name": "stderr",
     "output_type": "stream",
     "text": [
      "C:\\Users\\HP\\AppData\\Local\\Temp\\ipykernel_13152\\1853775989.py:1: FutureWarning: A value is trying to be set on a copy of a DataFrame or Series through chained assignment using an inplace method.\n",
      "The behavior will change in pandas 3.0. This inplace method will never work because the intermediate object on which we are setting values always behaves as a copy.\n",
      "\n",
      "For example, when doing 'df[col].method(value, inplace=True)', try using 'df.method({col: value}, inplace=True)' or df[col] = df[col].method(value) instead, to perform the operation inplace on the original object.\n",
      "\n",
      "\n",
      "  df['PURPOSE'].fillna(method='ffill',inplace=True)\n",
      "C:\\Users\\HP\\AppData\\Local\\Temp\\ipykernel_13152\\1853775989.py:1: FutureWarning: Series.fillna with 'method' is deprecated and will raise in a future version. Use obj.ffill() or obj.bfill() instead.\n",
      "  df['PURPOSE'].fillna(method='ffill',inplace=True)\n"
     ]
    }
   ],
   "source": [
    "df['PURPOSE'].fillna(method='ffill',inplace=True)"
   ]
  },
  {
   "cell_type": "markdown",
   "id": "057a0f6a-8979-4504-8325-d33f2ebff8b7",
   "metadata": {},
   "source": [
    "## Converting date columns to datetime for time-based analysis"
   ]
  },
  {
   "cell_type": "code",
   "execution_count": 7,
   "id": "9bd38de3-94db-4f63-8cae-019061f0c7c3",
   "metadata": {},
   "outputs": [],
   "source": [
    "import datetime"
   ]
  },
  {
   "cell_type": "code",
   "execution_count": 8,
   "id": "cd7b2378-fbc9-47d8-b7b2-f98b6c3580ca",
   "metadata": {},
   "outputs": [],
   "source": [
    "def convert_time(START_DATE):\n",
    "    y=[]\n",
    "    for x in df[START_DATE]:\n",
    "        y.append(datetime.datetime.strptime(x, \"%m/%d/%Y %H:%M\"))\n",
    "\n",
    "    df[START_DATE] = y"
   ]
  },
  {
   "cell_type": "code",
   "execution_count": 9,
   "id": "ed2f9f7c-8db3-4036-b22c-a99c4fdda95a",
   "metadata": {},
   "outputs": [],
   "source": [
    "def convert_time(END_DATE):\n",
    "    t=[]\n",
    "    for x in df[END_DATE]:\n",
    "        t.append(datetime.datetime.strptime(x, \"%m/%d/%Y %H:%M\"))\n",
    "\n",
    "    df[END_DATE] = t"
   ]
  },
  {
   "cell_type": "code",
   "execution_count": 10,
   "id": "c12bebd4-95cc-42e7-bb0d-91d1eb164ee1",
   "metadata": {},
   "outputs": [],
   "source": [
    "df['START_DATE'] = pd.to_datetime(df['START_DATE'], errors='coerce')\n",
    "df['END_DATE'] = pd.to_datetime(df['END_DATE'], errors='coerce')"
   ]
  },
  {
   "cell_type": "code",
   "execution_count": 11,
   "id": "8a34a574-016b-4dc8-ae06-a0dec555c056",
   "metadata": {},
   "outputs": [],
   "source": [
    "# If it's not already datetime, convert once\n",
    "df['START_DATE'] = pd.to_datetime(df['START_DATE'])\n",
    "df['END_DATE']   = pd.to_datetime(df['END_DATE'])"
   ]
  },
  {
   "cell_type": "code",
   "execution_count": 12,
   "id": "ee0f1fdd-a556-4344-a2d1-8f558a3ed5f9",
   "metadata": {},
   "outputs": [],
   "source": [
    "# seperating the date and time and month and year\n",
    "df['start_date'] = df['START_DATE'].dt.date\n",
    "df['start_time'] = df['START_DATE'].dt.time\n",
    "df['end_date'] = df['END_DATE'].dt.date\n",
    "df['end_time'] = df['END_DATE'].dt.time\n",
    "df['month'] = df['START_DATE'].dt.month\n",
    "df['year'] = df['START_DATE'].dt.year"
   ]
  },
  {
   "cell_type": "code",
   "execution_count": 13,
   "id": "7e7f63c2-c205-41e6-84bc-4b82c7f803ba",
   "metadata": {},
   "outputs": [
    {
     "data": {
      "text/plain": [
       "START_DATE    0\n",
       "END_DATE      0\n",
       "CATEGORY      0\n",
       "START         0\n",
       "STOP          0\n",
       "MILES         0\n",
       "PURPOSE       0\n",
       "start_date    0\n",
       "start_time    0\n",
       "end_date      0\n",
       "end_time      0\n",
       "month         0\n",
       "year          0\n",
       "dtype: int64"
      ]
     },
     "execution_count": 13,
     "metadata": {},
     "output_type": "execute_result"
    }
   ],
   "source": [
    "df.isnull().sum()"
   ]
  },
  {
   "cell_type": "code",
   "execution_count": 14,
   "id": "b797ccf0-4d22-4182-8309-440e985f6194",
   "metadata": {},
   "outputs": [],
   "source": [
    "# Convert start_time back to datetime.time and classify\n",
    "def categorize_time(t):\n",
    "    if t >= pd.to_datetime(\"05:00:00\").time() and t < pd.to_datetime(\"12:00:00\").time():\n",
    "        return \"Morning\"\n",
    "    elif t >= pd.to_datetime(\"12:00:00\").time() and t < pd.to_datetime(\"17:00:00\").time():\n",
    "        return \"Afternoon\"\n",
    "    elif t >= pd.to_datetime(\"17:00:00\").time() and t < pd.to_datetime(\"21:00:00\").time():\n",
    "        return \"Evening\"\n",
    "    else:\n",
    "        return \"Night\"\n",
    "\n",
    "df['time_of_day'] = df['start_time'].apply(categorize_time)\n"
   ]
  },
  {
   "cell_type": "code",
   "execution_count": 15,
   "id": "3f9a6b89-bd8e-48bc-80f0-a103ef71c87e",
   "metadata": {},
   "outputs": [],
   "source": [
    "# Drop START_DATE and END_DATE\n",
    "df.drop(['START_DATE','END_DATE'],axis=1,inplace=True)"
   ]
  },
  {
   "cell_type": "code",
   "execution_count": 16,
   "id": "a3270f81-8b51-425a-bb19-fe68231b5976",
   "metadata": {},
   "outputs": [
    {
     "data": {
      "text/html": [
       "<div>\n",
       "<style scoped>\n",
       "    .dataframe tbody tr th:only-of-type {\n",
       "        vertical-align: middle;\n",
       "    }\n",
       "\n",
       "    .dataframe tbody tr th {\n",
       "        vertical-align: top;\n",
       "    }\n",
       "\n",
       "    .dataframe thead th {\n",
       "        text-align: right;\n",
       "    }\n",
       "</style>\n",
       "<table border=\"1\" class=\"dataframe\">\n",
       "  <thead>\n",
       "    <tr style=\"text-align: right;\">\n",
       "      <th></th>\n",
       "      <th>CATEGORY</th>\n",
       "      <th>START</th>\n",
       "      <th>STOP</th>\n",
       "      <th>MILES</th>\n",
       "      <th>PURPOSE</th>\n",
       "      <th>start_date</th>\n",
       "      <th>start_time</th>\n",
       "      <th>end_date</th>\n",
       "      <th>end_time</th>\n",
       "      <th>month</th>\n",
       "      <th>year</th>\n",
       "      <th>time_of_day</th>\n",
       "    </tr>\n",
       "  </thead>\n",
       "  <tbody>\n",
       "    <tr>\n",
       "      <th>0</th>\n",
       "      <td>Business</td>\n",
       "      <td>Fort Pierce</td>\n",
       "      <td>Fort Pierce</td>\n",
       "      <td>5.1</td>\n",
       "      <td>Meal/Entertain</td>\n",
       "      <td>2016-01-01</td>\n",
       "      <td>21:11:00</td>\n",
       "      <td>2016-01-01</td>\n",
       "      <td>21:17:00</td>\n",
       "      <td>1</td>\n",
       "      <td>2016</td>\n",
       "      <td>Night</td>\n",
       "    </tr>\n",
       "    <tr>\n",
       "      <th>1</th>\n",
       "      <td>Business</td>\n",
       "      <td>Fort Pierce</td>\n",
       "      <td>Fort Pierce</td>\n",
       "      <td>5.0</td>\n",
       "      <td>Meal/Entertain</td>\n",
       "      <td>2016-01-02</td>\n",
       "      <td>01:25:00</td>\n",
       "      <td>2016-01-02</td>\n",
       "      <td>01:37:00</td>\n",
       "      <td>1</td>\n",
       "      <td>2016</td>\n",
       "      <td>Night</td>\n",
       "    </tr>\n",
       "    <tr>\n",
       "      <th>2</th>\n",
       "      <td>Business</td>\n",
       "      <td>Fort Pierce</td>\n",
       "      <td>Fort Pierce</td>\n",
       "      <td>4.8</td>\n",
       "      <td>Errand/Supplies</td>\n",
       "      <td>2016-01-02</td>\n",
       "      <td>20:25:00</td>\n",
       "      <td>2016-01-02</td>\n",
       "      <td>20:38:00</td>\n",
       "      <td>1</td>\n",
       "      <td>2016</td>\n",
       "      <td>Evening</td>\n",
       "    </tr>\n",
       "    <tr>\n",
       "      <th>3</th>\n",
       "      <td>Business</td>\n",
       "      <td>Fort Pierce</td>\n",
       "      <td>Fort Pierce</td>\n",
       "      <td>4.7</td>\n",
       "      <td>Meeting</td>\n",
       "      <td>2016-01-05</td>\n",
       "      <td>17:31:00</td>\n",
       "      <td>2016-01-05</td>\n",
       "      <td>17:45:00</td>\n",
       "      <td>1</td>\n",
       "      <td>2016</td>\n",
       "      <td>Evening</td>\n",
       "    </tr>\n",
       "    <tr>\n",
       "      <th>4</th>\n",
       "      <td>Business</td>\n",
       "      <td>Fort Pierce</td>\n",
       "      <td>West Palm Beach</td>\n",
       "      <td>63.7</td>\n",
       "      <td>Customer Visit</td>\n",
       "      <td>2016-01-06</td>\n",
       "      <td>14:42:00</td>\n",
       "      <td>2016-01-06</td>\n",
       "      <td>15:49:00</td>\n",
       "      <td>1</td>\n",
       "      <td>2016</td>\n",
       "      <td>Afternoon</td>\n",
       "    </tr>\n",
       "  </tbody>\n",
       "</table>\n",
       "</div>"
      ],
      "text/plain": [
       "   CATEGORY        START             STOP  MILES          PURPOSE  start_date  \\\n",
       "0  Business  Fort Pierce      Fort Pierce    5.1   Meal/Entertain  2016-01-01   \n",
       "1  Business  Fort Pierce      Fort Pierce    5.0   Meal/Entertain  2016-01-02   \n",
       "2  Business  Fort Pierce      Fort Pierce    4.8  Errand/Supplies  2016-01-02   \n",
       "3  Business  Fort Pierce      Fort Pierce    4.7          Meeting  2016-01-05   \n",
       "4  Business  Fort Pierce  West Palm Beach   63.7   Customer Visit  2016-01-06   \n",
       "\n",
       "  start_time    end_date  end_time  month  year time_of_day  \n",
       "0   21:11:00  2016-01-01  21:17:00      1  2016       Night  \n",
       "1   01:25:00  2016-01-02  01:37:00      1  2016       Night  \n",
       "2   20:25:00  2016-01-02  20:38:00      1  2016     Evening  \n",
       "3   17:31:00  2016-01-05  17:45:00      1  2016     Evening  \n",
       "4   14:42:00  2016-01-06  15:49:00      1  2016   Afternoon  "
      ]
     },
     "execution_count": 16,
     "metadata": {},
     "output_type": "execute_result"
    }
   ],
   "source": [
    "df.head()"
   ]
  },
  {
   "cell_type": "code",
   "execution_count": 17,
   "id": "88b7e8d9-0f0e-45e9-a98d-722499eb353f",
   "metadata": {},
   "outputs": [
    {
     "name": "stdout",
     "output_type": "stream",
     "text": [
      "<class 'pandas.core.frame.DataFrame'>\n",
      "RangeIndex: 1155 entries, 0 to 1154\n",
      "Data columns (total 12 columns):\n",
      " #   Column       Non-Null Count  Dtype  \n",
      "---  ------       --------------  -----  \n",
      " 0   CATEGORY     1155 non-null   object \n",
      " 1   START        1155 non-null   object \n",
      " 2   STOP         1155 non-null   object \n",
      " 3   MILES        1155 non-null   float64\n",
      " 4   PURPOSE      1155 non-null   object \n",
      " 5   start_date   1155 non-null   object \n",
      " 6   start_time   1155 non-null   object \n",
      " 7   end_date     1155 non-null   object \n",
      " 8   end_time     1155 non-null   object \n",
      " 9   month        1155 non-null   int32  \n",
      " 10  year         1155 non-null   int32  \n",
      " 11  time_of_day  1155 non-null   object \n",
      "dtypes: float64(1), int32(2), object(9)\n",
      "memory usage: 99.4+ KB\n"
     ]
    }
   ],
   "source": [
    "df.info()"
   ]
  },
  {
   "cell_type": "code",
   "execution_count": 18,
   "id": "a38d8c5c-8289-40f9-a510-b98105ca011c",
   "metadata": {},
   "outputs": [],
   "source": [
    "# create a new column for duration of the trip to be in minutes\n",
    "df['end_dt'] = pd.to_datetime(df['end_time'], format='%H:%M:%S')\n",
    "df['start_dt'] = pd.to_datetime(df['start_time'], format='%H:%M:%S')\n",
    "\n",
    "# Calculate duration\n",
    "df.loc[df['end_dt'] < df['start_dt'], 'end_dt'] += pd.Timedelta(days=1)\n",
    "df['duration_minutes'] = (df['end_dt'] - df['start_dt']).dt.total_seconds() / 60 # in minutes"
   ]
  },
  {
   "cell_type": "code",
   "execution_count": 19,
   "id": "f43e6b30-590a-42fe-99f6-75dc145c83f1",
   "metadata": {},
   "outputs": [],
   "source": [
    "# convert miles to km\n",
    "df['MILES'] = (df['MILES'] * 1.60934).map(\"{:.2f}\".format)\n",
    "df.rename(columns={'MILES': 'DISTANCE_KM'}, inplace=True)"
   ]
  },
  {
   "cell_type": "code",
   "execution_count": 20,
   "id": "5fe6680d-fb02-46db-b5c5-b8a200824f8c",
   "metadata": {},
   "outputs": [
    {
     "data": {
      "text/html": [
       "<div>\n",
       "<style scoped>\n",
       "    .dataframe tbody tr th:only-of-type {\n",
       "        vertical-align: middle;\n",
       "    }\n",
       "\n",
       "    .dataframe tbody tr th {\n",
       "        vertical-align: top;\n",
       "    }\n",
       "\n",
       "    .dataframe thead th {\n",
       "        text-align: right;\n",
       "    }\n",
       "</style>\n",
       "<table border=\"1\" class=\"dataframe\">\n",
       "  <thead>\n",
       "    <tr style=\"text-align: right;\">\n",
       "      <th></th>\n",
       "      <th>CATEGORY</th>\n",
       "      <th>START</th>\n",
       "      <th>STOP</th>\n",
       "      <th>DISTANCE_KM</th>\n",
       "      <th>PURPOSE</th>\n",
       "      <th>start_date</th>\n",
       "      <th>start_time</th>\n",
       "      <th>end_date</th>\n",
       "      <th>end_time</th>\n",
       "      <th>month</th>\n",
       "      <th>year</th>\n",
       "      <th>time_of_day</th>\n",
       "      <th>end_dt</th>\n",
       "      <th>start_dt</th>\n",
       "      <th>duration_minutes</th>\n",
       "    </tr>\n",
       "  </thead>\n",
       "  <tbody>\n",
       "    <tr>\n",
       "      <th>0</th>\n",
       "      <td>Business</td>\n",
       "      <td>Fort Pierce</td>\n",
       "      <td>Fort Pierce</td>\n",
       "      <td>8.21</td>\n",
       "      <td>Meal/Entertain</td>\n",
       "      <td>2016-01-01</td>\n",
       "      <td>21:11:00</td>\n",
       "      <td>2016-01-01</td>\n",
       "      <td>21:17:00</td>\n",
       "      <td>1</td>\n",
       "      <td>2016</td>\n",
       "      <td>Night</td>\n",
       "      <td>1900-01-01 21:17:00</td>\n",
       "      <td>1900-01-01 21:11:00</td>\n",
       "      <td>6.0</td>\n",
       "    </tr>\n",
       "    <tr>\n",
       "      <th>1</th>\n",
       "      <td>Business</td>\n",
       "      <td>Fort Pierce</td>\n",
       "      <td>Fort Pierce</td>\n",
       "      <td>8.05</td>\n",
       "      <td>Meal/Entertain</td>\n",
       "      <td>2016-01-02</td>\n",
       "      <td>01:25:00</td>\n",
       "      <td>2016-01-02</td>\n",
       "      <td>01:37:00</td>\n",
       "      <td>1</td>\n",
       "      <td>2016</td>\n",
       "      <td>Night</td>\n",
       "      <td>1900-01-01 01:37:00</td>\n",
       "      <td>1900-01-01 01:25:00</td>\n",
       "      <td>12.0</td>\n",
       "    </tr>\n",
       "    <tr>\n",
       "      <th>2</th>\n",
       "      <td>Business</td>\n",
       "      <td>Fort Pierce</td>\n",
       "      <td>Fort Pierce</td>\n",
       "      <td>7.72</td>\n",
       "      <td>Errand/Supplies</td>\n",
       "      <td>2016-01-02</td>\n",
       "      <td>20:25:00</td>\n",
       "      <td>2016-01-02</td>\n",
       "      <td>20:38:00</td>\n",
       "      <td>1</td>\n",
       "      <td>2016</td>\n",
       "      <td>Evening</td>\n",
       "      <td>1900-01-01 20:38:00</td>\n",
       "      <td>1900-01-01 20:25:00</td>\n",
       "      <td>13.0</td>\n",
       "    </tr>\n",
       "    <tr>\n",
       "      <th>3</th>\n",
       "      <td>Business</td>\n",
       "      <td>Fort Pierce</td>\n",
       "      <td>Fort Pierce</td>\n",
       "      <td>7.56</td>\n",
       "      <td>Meeting</td>\n",
       "      <td>2016-01-05</td>\n",
       "      <td>17:31:00</td>\n",
       "      <td>2016-01-05</td>\n",
       "      <td>17:45:00</td>\n",
       "      <td>1</td>\n",
       "      <td>2016</td>\n",
       "      <td>Evening</td>\n",
       "      <td>1900-01-01 17:45:00</td>\n",
       "      <td>1900-01-01 17:31:00</td>\n",
       "      <td>14.0</td>\n",
       "    </tr>\n",
       "    <tr>\n",
       "      <th>4</th>\n",
       "      <td>Business</td>\n",
       "      <td>Fort Pierce</td>\n",
       "      <td>West Palm Beach</td>\n",
       "      <td>102.51</td>\n",
       "      <td>Customer Visit</td>\n",
       "      <td>2016-01-06</td>\n",
       "      <td>14:42:00</td>\n",
       "      <td>2016-01-06</td>\n",
       "      <td>15:49:00</td>\n",
       "      <td>1</td>\n",
       "      <td>2016</td>\n",
       "      <td>Afternoon</td>\n",
       "      <td>1900-01-01 15:49:00</td>\n",
       "      <td>1900-01-01 14:42:00</td>\n",
       "      <td>67.0</td>\n",
       "    </tr>\n",
       "  </tbody>\n",
       "</table>\n",
       "</div>"
      ],
      "text/plain": [
       "   CATEGORY        START             STOP DISTANCE_KM          PURPOSE  \\\n",
       "0  Business  Fort Pierce      Fort Pierce        8.21   Meal/Entertain   \n",
       "1  Business  Fort Pierce      Fort Pierce        8.05   Meal/Entertain   \n",
       "2  Business  Fort Pierce      Fort Pierce        7.72  Errand/Supplies   \n",
       "3  Business  Fort Pierce      Fort Pierce        7.56          Meeting   \n",
       "4  Business  Fort Pierce  West Palm Beach      102.51   Customer Visit   \n",
       "\n",
       "   start_date start_time    end_date  end_time  month  year time_of_day  \\\n",
       "0  2016-01-01   21:11:00  2016-01-01  21:17:00      1  2016       Night   \n",
       "1  2016-01-02   01:25:00  2016-01-02  01:37:00      1  2016       Night   \n",
       "2  2016-01-02   20:25:00  2016-01-02  20:38:00      1  2016     Evening   \n",
       "3  2016-01-05   17:31:00  2016-01-05  17:45:00      1  2016     Evening   \n",
       "4  2016-01-06   14:42:00  2016-01-06  15:49:00      1  2016   Afternoon   \n",
       "\n",
       "               end_dt            start_dt  duration_minutes  \n",
       "0 1900-01-01 21:17:00 1900-01-01 21:11:00               6.0  \n",
       "1 1900-01-01 01:37:00 1900-01-01 01:25:00              12.0  \n",
       "2 1900-01-01 20:38:00 1900-01-01 20:25:00              13.0  \n",
       "3 1900-01-01 17:45:00 1900-01-01 17:31:00              14.0  \n",
       "4 1900-01-01 15:49:00 1900-01-01 14:42:00              67.0  "
      ]
     },
     "execution_count": 20,
     "metadata": {},
     "output_type": "execute_result"
    }
   ],
   "source": [
    "df.head()"
   ]
  },
  {
   "cell_type": "code",
   "execution_count": 21,
   "id": "44b08b23-fa13-4444-9da9-4840765bee96",
   "metadata": {},
   "outputs": [],
   "source": [
    "df['start_time'] = pd.to_datetime(df['start_time'], format='%H:%M:%S')\n",
    "df['end_time']   = pd.to_datetime(df['end_time'], format='%H:%M:%S')\n",
    "df['DISTANCE_KM'] = df['DISTANCE_KM'].astype(float)"
   ]
  },
  {
   "cell_type": "code",
   "execution_count": 22,
   "id": "97748072-5459-4da8-b8ff-30ffbe6142bf",
   "metadata": {},
   "outputs": [],
   "source": [
    "import calendar\n",
    "df['Month'] = df['month'].map(lambda m: calendar.month_abbr[m])"
   ]
  },
  {
   "cell_type": "code",
   "execution_count": 34,
   "id": "eef0425c-86d6-4bd9-8688-3b9076d2324d",
   "metadata": {},
   "outputs": [],
   "source": [
    "# Drop month            \n",
    "df.drop(['month'],axis=1,inplace=True)"
   ]
  },
  {
   "cell_type": "code",
   "execution_count": 35,
   "id": "f39f9dd0-8775-4ac9-b30d-83511630dfe3",
   "metadata": {},
   "outputs": [
    {
     "data": {
      "text/html": [
       "<div>\n",
       "<style scoped>\n",
       "    .dataframe tbody tr th:only-of-type {\n",
       "        vertical-align: middle;\n",
       "    }\n",
       "\n",
       "    .dataframe tbody tr th {\n",
       "        vertical-align: top;\n",
       "    }\n",
       "\n",
       "    .dataframe thead th {\n",
       "        text-align: right;\n",
       "    }\n",
       "</style>\n",
       "<table border=\"1\" class=\"dataframe\">\n",
       "  <thead>\n",
       "    <tr style=\"text-align: right;\">\n",
       "      <th></th>\n",
       "      <th>DISTANCE_KM</th>\n",
       "      <th>start_time</th>\n",
       "      <th>end_time</th>\n",
       "      <th>year</th>\n",
       "      <th>duration_minutes</th>\n",
       "    </tr>\n",
       "  </thead>\n",
       "  <tbody>\n",
       "    <tr>\n",
       "      <th>count</th>\n",
       "      <td>1155.000000</td>\n",
       "      <td>1155</td>\n",
       "      <td>1155</td>\n",
       "      <td>1155.0</td>\n",
       "      <td>1155.000000</td>\n",
       "    </tr>\n",
       "    <tr>\n",
       "      <th>mean</th>\n",
       "      <td>17.005784</td>\n",
       "      <td>1900-01-01 15:10:53.662337792</td>\n",
       "      <td>1900-01-01 15:16:40.987013120</td>\n",
       "      <td>2016.0</td>\n",
       "      <td>23.243290</td>\n",
       "    </tr>\n",
       "    <tr>\n",
       "      <th>min</th>\n",
       "      <td>0.800000</td>\n",
       "      <td>1900-01-01 00:00:00</td>\n",
       "      <td>1900-01-01 00:00:00</td>\n",
       "      <td>2016.0</td>\n",
       "      <td>0.000000</td>\n",
       "    </tr>\n",
       "    <tr>\n",
       "      <th>25%</th>\n",
       "      <td>4.670000</td>\n",
       "      <td>1900-01-01 12:10:30</td>\n",
       "      <td>1900-01-01 12:23:30</td>\n",
       "      <td>2016.0</td>\n",
       "      <td>10.000000</td>\n",
       "    </tr>\n",
       "    <tr>\n",
       "      <th>50%</th>\n",
       "      <td>9.660000</td>\n",
       "      <td>1900-01-01 15:26:00</td>\n",
       "      <td>1900-01-01 15:44:00</td>\n",
       "      <td>2016.0</td>\n",
       "      <td>16.000000</td>\n",
       "    </tr>\n",
       "    <tr>\n",
       "      <th>75%</th>\n",
       "      <td>16.740000</td>\n",
       "      <td>1900-01-01 18:35:00</td>\n",
       "      <td>1900-01-01 18:48:00</td>\n",
       "      <td>2016.0</td>\n",
       "      <td>27.500000</td>\n",
       "    </tr>\n",
       "    <tr>\n",
       "      <th>max</th>\n",
       "      <td>499.380000</td>\n",
       "      <td>1900-01-01 23:55:00</td>\n",
       "      <td>1900-01-01 23:59:00</td>\n",
       "      <td>2016.0</td>\n",
       "      <td>336.000000</td>\n",
       "    </tr>\n",
       "    <tr>\n",
       "      <th>std</th>\n",
       "      <td>34.728114</td>\n",
       "      <td>NaN</td>\n",
       "      <td>NaN</td>\n",
       "      <td>0.0</td>\n",
       "      <td>27.318277</td>\n",
       "    </tr>\n",
       "  </tbody>\n",
       "</table>\n",
       "</div>"
      ],
      "text/plain": [
       "       DISTANCE_KM                     start_time  \\\n",
       "count  1155.000000                           1155   \n",
       "mean     17.005784  1900-01-01 15:10:53.662337792   \n",
       "min       0.800000            1900-01-01 00:00:00   \n",
       "25%       4.670000            1900-01-01 12:10:30   \n",
       "50%       9.660000            1900-01-01 15:26:00   \n",
       "75%      16.740000            1900-01-01 18:35:00   \n",
       "max     499.380000            1900-01-01 23:55:00   \n",
       "std      34.728114                            NaN   \n",
       "\n",
       "                            end_time    year  duration_minutes  \n",
       "count                           1155  1155.0       1155.000000  \n",
       "mean   1900-01-01 15:16:40.987013120  2016.0         23.243290  \n",
       "min              1900-01-01 00:00:00  2016.0          0.000000  \n",
       "25%              1900-01-01 12:23:30  2016.0         10.000000  \n",
       "50%              1900-01-01 15:44:00  2016.0         16.000000  \n",
       "75%              1900-01-01 18:48:00  2016.0         27.500000  \n",
       "max              1900-01-01 23:59:00  2016.0        336.000000  \n",
       "std                              NaN     0.0         27.318277  "
      ]
     },
     "execution_count": 35,
     "metadata": {},
     "output_type": "execute_result"
    }
   ],
   "source": [
    "df.describe()"
   ]
  },
  {
   "cell_type": "code",
   "execution_count": 24,
   "id": "0f7081c6-e8ef-464d-9193-cdca00f8b150",
   "metadata": {},
   "outputs": [
    {
     "name": "stdout",
     "output_type": "stream",
     "text": [
      "<class 'pandas.core.frame.DataFrame'>\n",
      "RangeIndex: 1155 entries, 0 to 1154\n",
      "Data columns (total 16 columns):\n",
      " #   Column            Non-Null Count  Dtype         \n",
      "---  ------            --------------  -----         \n",
      " 0   CATEGORY          1155 non-null   object        \n",
      " 1   START             1155 non-null   object        \n",
      " 2   STOP              1155 non-null   object        \n",
      " 3   DISTANCE_KM       1155 non-null   float64       \n",
      " 4   PURPOSE           1155 non-null   object        \n",
      " 5   start_date        1155 non-null   object        \n",
      " 6   start_time        1155 non-null   datetime64[ns]\n",
      " 7   end_date          1155 non-null   object        \n",
      " 8   end_time          1155 non-null   datetime64[ns]\n",
      " 9   month             1155 non-null   int32         \n",
      " 10  year              1155 non-null   int32         \n",
      " 11  time_of_day       1155 non-null   object        \n",
      " 12  end_dt            1155 non-null   datetime64[ns]\n",
      " 13  start_dt          1155 non-null   datetime64[ns]\n",
      " 14  duration_minutes  1155 non-null   float64       \n",
      " 15  Month             1155 non-null   object        \n",
      "dtypes: datetime64[ns](4), float64(2), int32(2), object(8)\n",
      "memory usage: 135.5+ KB\n"
     ]
    }
   ],
   "source": [
    "df.info()"
   ]
  },
  {
   "cell_type": "code",
   "execution_count": 25,
   "id": "befd6d2a-1e13-46da-b72d-9c585b4b64f6",
   "metadata": {},
   "outputs": [],
   "source": [
    "# Drop start_dt and end_dt            \n",
    "df.drop(['start_dt','end_dt'],axis=1,inplace=True)"
   ]
  },
  {
   "cell_type": "code",
   "execution_count": 26,
   "id": "19adb088-318c-47d8-b86b-ee5325b917d8",
   "metadata": {},
   "outputs": [
    {
     "data": {
      "text/plain": [
       "<Axes: xlabel='CATEGORY'>"
      ]
     },
     "execution_count": 26,
     "metadata": {},
     "output_type": "execute_result"
    },
    {
     "data": {
      "image/png": "[encoded data removed]",
      "text/plain": [
       "<Figure size 640x480 with 1 Axes>"
      ]
     },
     "metadata": {},
     "output_type": "display_data"
    }
   ],
   "source": [
    "# plot number of trip at each category\n",
    "df['CATEGORY'].value_counts().plot(kind='bar')"
   ]
  },
  {
   "cell_type": "code",
   "execution_count": 27,
   "id": "8ffc2f76-8349-47ec-b616-c01065f5c881",
   "metadata": {},
   "outputs": [
    {
     "data": {
      "text/plain": [
       "<Axes: xlabel='time_of_day'>"
      ]
     },
     "execution_count": 27,
     "metadata": {},
     "output_type": "execute_result"
    },
    {
     "data": {
      "image/png": "[encoded data removed]",
      "text/plain": [
       "<Figure size 640x480 with 1 Axes>"
      ]
     },
     "metadata": {},
     "output_type": "display_data"
    }
   ],
   "source": [
    "# plot number of trip at each time_of_day\n",
    "df['time_of_day'].value_counts().plot(kind='bar')"
   ]
  },
  {
   "cell_type": "code",
   "execution_count": 28,
   "id": "c80e7198-960a-4ddc-9d74-2e9777f6c567",
   "metadata": {},
   "outputs": [
    {
     "data": {
      "text/plain": [
       "<Axes: xlabel='PURPOSE'>"
      ]
     },
     "execution_count": 28,
     "metadata": {},
     "output_type": "execute_result"
    },
    {
     "data": {
      "image/png": "[encoded data removed]",
      "text/plain": [
       "<Figure size 640x480 with 1 Axes>"
      ]
     },
     "metadata": {},
     "output_type": "display_data"
    }
   ],
   "source": [
    "# plot number of trip at each PURPOSE\n",
    "df['PURPOSE'].value_counts().plot(kind='bar')"
   ]
  },
  {
   "cell_type": "code",
   "execution_count": 29,
   "id": "4e94672f-8ca7-4c6d-a4a9-ee8f37861579",
   "metadata": {},
   "outputs": [
    {
     "data": {
      "text/plain": [
       "<Axes: xlabel='time_of_day', ylabel='count'>"
      ]
     },
     "execution_count": 29,
     "metadata": {},
     "output_type": "execute_result"
    },
    {
     "data": {
      "image/png": "[encoded data removed]",
      "text/plain": [
       "<Figure size 1200x600 with 1 Axes>"
      ]
     },
     "metadata": {},
     "output_type": "display_data"
    }
   ],
   "source": [
    "plt.figure(figsize = (12,6))\n",
    "sns.countplot(x='time_of_day', data = df, hue = 'CATEGORY')"
   ]
  },
  {
   "cell_type": "code",
   "execution_count": 30,
   "id": "2afcdc13-5dea-4d9c-b604-b5e3f41c4790",
   "metadata": {},
   "outputs": [
    {
     "data": {
      "text/plain": [
       "<Axes: xlabel='PURPOSE', ylabel='count'>"
      ]
     },
     "execution_count": 30,
     "metadata": {},
     "output_type": "execute_result"
    },
    {
     "data": {
      "image/png": "[encoded data removed]",
      "text/plain": [
       "<Figure size 1200x600 with 1 Axes>"
      ]
     },
     "metadata": {},
     "output_type": "display_data"
    }
   ],
   "source": [
    "plt.figure(figsize = (12,6))\n",
    "sns.countplot(x='PURPOSE', data = df, hue = 'CATEGORY')"
   ]
  },
  {
   "cell_type": "code",
   "execution_count": 36,
   "id": "1caab2d9-631a-4419-bd80-a0015f3d9cb0",
   "metadata": {},
   "outputs": [],
   "source": [
    "df.to_csv(\"Uber_Rides_Edited.csv\", index=False)"
   ]
  },
  {
   "cell_type": "code",
   "execution_count": 32,
   "id": "99d1cafc-923e-4a3e-9781-94be9a300659",
   "metadata": {},
   "outputs": [
    {
     "data": {
      "text/plain": [
       "Month\n",
       "Dec    146\n",
       "Aug    133\n",
       "Nov    122\n",
       "Feb    115\n",
       "Mar    113\n",
       "Jul    112\n",
       "Jun    108\n",
       "Oct    106\n",
       "Jan     61\n",
       "Apr     54\n",
       "May     49\n",
       "Sep     36\n",
       "Name: count, dtype: int64"
      ]
     },
     "execution_count": 32,
     "metadata": {},
     "output_type": "execute_result"
    }
   ],
   "source": [
    "df['Month'].value_counts()"
   ]
  },
  {
   "cell_type": "code",
   "execution_count": 37,
   "id": "ec1793b6-091f-4d07-b329-0c8cd35b5117",
   "metadata": {},
   "outputs": [
    {
     "data": {
      "text/plain": [
       "0         8.21\n",
       "1         8.05\n",
       "2         7.72\n",
       "3         7.56\n",
       "4       102.51\n",
       "         ...  \n",
       "1150      1.13\n",
       "1151      6.28\n",
       "1152     26.07\n",
       "1153     10.30\n",
       "1154     77.57\n",
       "Name: DISTANCE_KM, Length: 1155, dtype: float64"
      ]
     },
     "execution_count": 37,
     "metadata": {},
     "output_type": "execute_result"
    }
   ],
   "source": [
    "df['DISTANCE_KM']"
   ]
  },
  {
   "cell_type": "code",
   "execution_count": 38,
   "id": "7e7e3186-d09e-44a3-8db1-15a0aa7ec3fd",
   "metadata": {},
   "outputs": [
    {
     "data": {
      "text/plain": [
       "START\n",
       "Cary                201\n",
       "Unknown Location    148\n",
       "Morrisville          85\n",
       "Whitebridge          68\n",
       "Islamabad            57\n",
       "                   ... \n",
       "Krendle Woods         1\n",
       "Fuquay-Varina         1\n",
       "Wake Co.              1\n",
       "Katunayake            1\n",
       "Gampaha               1\n",
       "Name: count, Length: 177, dtype: int64"
      ]
     },
     "execution_count": 38,
     "metadata": {},
     "output_type": "execute_result"
    }
   ],
   "source": [
    "df['START'].value_counts()"
   ]
  },
  {
   "cell_type": "code",
   "execution_count": null,
   "id": "45a9abc8-d9ed-4a24-84c1-a55f31e89b0d",
   "metadata": {},
   "outputs": [],
   "source": []
  }
 ],
 "metadata": {
  "kernelspec": {
   "display_name": "Python [conda env:base] *",
   "language": "python",
   "name": "conda-base-py"
  },
  "language_info": {
   "codemirror_mode": {
    "name": "ipython",
    "version": 3
   },
   "file_extension": ".py",
   "mimetype": "text/x-python",
   "name": "python",
   "nbconvert_exporter": "python",
   "pygments_lexer": "ipython3",
   "version": "3.13.5"
  }
 },
 "nbformat": 4,
 "nbformat_minor": 5
}
